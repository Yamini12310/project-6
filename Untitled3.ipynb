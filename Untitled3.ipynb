{
  "metadata": {
    "language_info": {
      "codemirror_mode": {
        "name": "python",
        "version": 3
      },
      "file_extension": ".py",
      "mimetype": "text/x-python",
      "name": "python",
      "nbconvert_exporter": "python",
      "pygments_lexer": "ipython3",
      "version": "3.8"
    },
    "kernelspec": {
      "name": "python",
      "display_name": "Python (Pyodide)",
      "language": "python"
    }
  },
  "nbformat_minor": 4,
  "nbformat": 4,
  "cells": [
    {
      "cell_type": "markdown",
      "source": "Q1. Write a program to find all pairs of an integer array whose sum is equal to a given number?",
      "metadata": {}
    },
    {
      "cell_type": "code",
      "source": "def printPairs(arr, n, sum):\n \n    for i in range(0, n):\n        for j in range(i + 1, n):\n            if (arr[i] + arr[j] == sum):\n                print(\"(\", arr[i], \", \", arr[j], \")\", sep=\"\")\n \n \narr = [1, 5, 7, -1, 5]\nn = len(arr)\nsum = 6\nprintPairs(arr, n, sum) ",
      "metadata": {
        "trusted": true
      },
      "execution_count": 6,
      "outputs": [
        {
          "name": "stdout",
          "text": "(1, 5)\n(1, 5)\n(7, -1)\n",
          "output_type": "stream"
        }
      ]
    },
    {
      "cell_type": "markdown",
      "source": "Q2. Write a program to reverse an array in place? In place means you cannot create a new array. You have to update the original array.",
      "metadata": {}
    },
    {
      "cell_type": "code",
      "source": "arr = [0, 1, 2, 3, 4, 5, 6, 7, 8, 9]\nprint(arr)\narr = arr[::-1]\nprint(\"Reversed array is\")\nprint(arr)",
      "metadata": {
        "trusted": true
      },
      "execution_count": 7,
      "outputs": [
        {
          "name": "stdout",
          "text": "[0, 1, 2, 3, 4, 5, 6, 7, 8, 9]\nReversed array is\n[9, 8, 7, 6, 5, 4, 3, 2, 1, 0]\n",
          "output_type": "stream"
        }
      ]
    },
    {
      "cell_type": "markdown",
      "source": "Q3. Write a program to check if two strings are a rotation of each other?",
      "metadata": {}
    },
    {
      "cell_type": "code",
      "source": "def rotation_check(s1, s2):\n    if len(s1) == len(s2):\n        temp = s1 + s1\n        if temp.count(s2) > 0:\n            return 1\n    else:\n        return 0\ns1 = \"ABCD\"\ns2 = \"BCDA\"\nif rotation_check(s1, s2):\n    print(\"Strings are rotation of each other\")\nelse:\n    print(\"Strings are not rotation!\")",
      "metadata": {
        "trusted": true
      },
      "execution_count": 8,
      "outputs": [
        {
          "name": "stdout",
          "text": "Strings are rotation of each other\n",
          "output_type": "stream"
        }
      ]
    },
    {
      "cell_type": "markdown",
      "source": "Q4. Write a program to print the first non-repeated character from a string?",
      "metadata": {}
    },
    {
      "cell_type": "code",
      "source": "def non_repeated(str1):\n    for i in str1:\n        count = str1.count(i)\n        if count == 1:\n            return i\n            break\nstr1 = \"string\"\nnon_repeated(str1)    ",
      "metadata": {
        "trusted": true
      },
      "execution_count": 9,
      "outputs": [
        {
          "execution_count": 9,
          "output_type": "execute_result",
          "data": {
            "text/plain": "'s'"
          },
          "metadata": {}
        }
      ]
    },
    {
      "cell_type": "markdown",
      "source": "Q5. Read about the Tower of Hanoi algorithm. Write a program to implement it.",
      "metadata": {}
    },
    {
      "cell_type": "code",
      "source": "def TowerOfHanoi(n , from_rod, to_rod, aux_rod):\n    if n == 1:\n        print(\"Move disk 1 from rod\",from_rod,\"to rod\",to_rod)\n        return\n    TowerOfHanoi(n-1, from_rod, aux_rod, to_rod)\n    print(\"Move disk\",n,\"from rod\",from_rod,\"to rod\",to_rod)\n    TowerOfHanoi(n-1, aux_rod, to_rod, from_rod)\n    \nn = 4\nTowerOfHanoi(n, 'A', 'C', 'B')\n\n",
      "metadata": {},
      "execution_count": null,
      "outputs": []
    },
    {
      "cell_type": "markdown",
      "source": "Q6. Read about infix, prefix, and postfix expressions. Write a program to convert postfix to prefix expression.",
      "metadata": {}
    },
    {
      "cell_type": "code",
      "source": "def is_operator(n):\n    if n == \"+\":\n        return True\n    if n == \"-\":\n        return True\n    if n == \"/\":\n        return True\n    if n == \"*\":\n        return True\n    return False\n\ndef post_pre(x):\n    s = []\n    length = len(x)\n    for i in range(length):\n        if (is_operator(x[i])):\n            op1 = s[-1]\n            s.pop()\n            op2 = s[-1]\n            s.pop()\n            temp = x[i] + op2 + op1\n            s.append(temp)\n        else:\n             s.append(x[i])\n    ans = \"\"\n    for i in s:\n        ans += i\n    return ans\n\nx = \"AB+CD-\"\nprint(\"Prefix : \", post_pre(x))",
      "metadata": {
        "trusted": true
      },
      "execution_count": 1,
      "outputs": [
        {
          "name": "stdout",
          "text": "Prefix :  +AB-CD\n",
          "output_type": "stream"
        }
      ]
    },
    {
      "cell_type": "markdown",
      "source": "Q7. Write a program to convert prefix expression to infix expression.",
      "metadata": {}
    },
    {
      "cell_type": "code",
      "source": "def prefixToInfix(prefix):\n    stack = []\n    i = len(prefix) - 1\n    while i >= 0:\n        if not isOperator(prefix[i]):\n\n            stack.append(prefix[i])\n            i -= 1\n        else:\n            str = \"(\" + stack.pop() + prefix[i] + stack.pop() + \")\"\n            stack.append(str)\n            i -= 1\n    return stack.pop()\n\ndef isOperator(c):\n    if c == \"*\" or c == \"+\" or c == \"-\" or c == \"/\" or c == \"^\" or c == \"(\" or c == \")\":\n        return True\n    else:\n        return False\n\nstr = \"*-A/BC-/AKL\"\nprint(prefixToInfix(str))",
      "metadata": {
        "trusted": true
      },
      "execution_count": 2,
      "outputs": [
        {
          "name": "stdout",
          "text": "((A-(B/C))*((A/K)-L))\n",
          "output_type": "stream"
        }
      ]
    },
    {
      "cell_type": "markdown",
      "source": "Q8. Write a program to check if all the brackets are closed in a given code snippet.",
      "metadata": {}
    },
    {
      "cell_type": "code",
      "source": "def brackets_check(x):\n    var = []\n \n    for i in x:\n        if i in [\"(\", \"{\", \"[\"]:\n            var.append(i)\n            \n        else:\n            if not var:\n                return False\n            temp_char = var.pop()\n            if temp_char == '(':\n                if i != \")\":\n                    return False\n            if temp_char == '{':\n                if i != \"}\":\n                    return False\n            if temp_char == '[':\n                if i != \"]\":\n                    return False\n \n    if var:\n        return False\n    return True\n\nx = \"{()}[(]\"\n    \nif brackets_check(x):\n    print(\"Balanced\")\nelse:\n    print(\"Not Balanced\")",
      "metadata": {
        "trusted": true
      },
      "execution_count": 3,
      "outputs": [
        {
          "name": "stdout",
          "text": "Not Balanced\n",
          "output_type": "stream"
        }
      ]
    },
    {
      "cell_type": "markdown",
      "source": "Q9. Write a program to reverse a stack.",
      "metadata": {}
    },
    {
      "cell_type": "code",
      "source": "def reverse_stack(stack):\n    stack = reversed(stack)\n    return list(stack)\nstack = [11,12,13,14,15]\n\nprint(\"Original Stack\", *stack, sep='\\n')\nprint(\"Reversed Stack\", *reverse_stack(stack), sep='\\n')",
      "metadata": {
        "trusted": true
      },
      "execution_count": 5,
      "outputs": [
        {
          "name": "stdout",
          "text": "Original Stack\n11\n12\n13\n14\n15\nReversed Stack\n15\n14\n13\n12\n11\n",
          "output_type": "stream"
        }
      ]
    },
    {
      "cell_type": "markdown",
      "source": "Q10. Write a program to find the smallest number using a stack.\n",
      "metadata": {}
    },
    {
      "cell_type": "code",
      "source": "def min_value(stack):\n    x=sorted(stack)\n    return x[0]\n    \nstack=[50,7,4,3,-1]    \nmin_value(stack) ",
      "metadata": {
        "trusted": true
      },
      "execution_count": 6,
      "outputs": [
        {
          "execution_count": 6,
          "output_type": "execute_result",
          "data": {
            "text/plain": "-1"
          },
          "metadata": {}
        }
      ]
    },
    {
      "cell_type": "code",
      "source": "stack1 = [45,67,23,55,14,88,90]\nmin(*stack1)",
      "metadata": {
        "trusted": true
      },
      "execution_count": 7,
      "outputs": [
        {
          "execution_count": 7,
          "output_type": "execute_result",
          "data": {
            "text/plain": "14"
          },
          "metadata": {}
        }
      ]
    },
    {
      "cell_type": "code",
      "source": "",
      "metadata": {},
      "execution_count": null,
      "outputs": []
    }
  ]
}